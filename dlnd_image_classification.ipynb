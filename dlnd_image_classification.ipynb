{
 "cells": [
  {
   "cell_type": "markdown",
   "metadata": {
    "collapsed": true,
    "deletable": true,
    "editable": true
   },
   "source": [
    "# Image Classification\n",
    "In this project, you'll classify images from the [CIFAR-10 dataset](https://www.cs.toronto.edu/~kriz/cifar.html).  The dataset consists of airplanes, dogs, cats, and other objects. You'll preprocess the images, then train a convolutional neural network on all the samples. The images need to be normalized and the labels need to be one-hot encoded.  You'll get to apply what you learned and build a convolutional, max pooling, dropout, and fully connected layers.  At the end, you'll get to see your neural network's predictions on the sample images.\n",
    "## Get the Data\n",
    "Run the following cell to download the [CIFAR-10 dataset for python](https://www.cs.toronto.edu/~kriz/cifar-10-python.tar.gz)."
   ]
  },
  {
   "cell_type": "code",
   "execution_count": 1,
   "metadata": {
    "collapsed": false,
    "deletable": true,
    "editable": true
   },
   "outputs": [
    {
     "name": "stdout",
     "output_type": "stream",
     "text": [
      "All files found!\n"
     ]
    }
   ],
   "source": [
    "\"\"\"\n",
    "DON'T MODIFY ANYTHING IN THIS CELL THAT IS BELOW THIS LINE\n",
    "\"\"\"\n",
    "from urllib.request import urlretrieve\n",
    "from os.path import isfile, isdir\n",
    "from tqdm import tqdm\n",
    "import problem_unittests as tests\n",
    "import tarfile\n",
    "\n",
    "cifar10_dataset_folder_path = 'cifar-10-batches-py'\n",
    "\n",
    "class DLProgress(tqdm):\n",
    "    last_block = 0\n",
    "\n",
    "    def hook(self, block_num=1, block_size=1, total_size=None):\n",
    "        self.total = total_size\n",
    "        self.update((block_num - self.last_block) * block_size)\n",
    "        self.last_block = block_num\n",
    "\n",
    "if not isfile('cifar-10-python.tar.gz'):\n",
    "    with DLProgress(unit='B', unit_scale=True, miniters=1, desc='CIFAR-10 Dataset') as pbar:\n",
    "        urlretrieve(\n",
    "            'https://www.cs.toronto.edu/~kriz/cifar-10-python.tar.gz',\n",
    "            'cifar-10-python.tar.gz',\n",
    "            pbar.hook)\n",
    "\n",
    "if not isdir(cifar10_dataset_folder_path):\n",
    "    with tarfile.open('cifar-10-python.tar.gz') as tar:\n",
    "        tar.extractall()\n",
    "        tar.close()\n",
    "\n",
    "\n",
    "tests.test_folder_path(cifar10_dataset_folder_path)"
   ]
  },
  {
   "cell_type": "markdown",
   "metadata": {
    "deletable": true,
    "editable": true
   },
   "source": [
    "## Explore the Data\n",
    "The dataset is broken into batches to prevent your machine from running out of memory.  The CIFAR-10 dataset consists of 5 batches, named `data_batch_1`, `data_batch_2`, etc.. Each batch contains the labels and images that are one of the following:\n",
    "* airplane\n",
    "* automobile\n",
    "* bird\n",
    "* cat\n",
    "* deer\n",
    "* dog\n",
    "* frog\n",
    "* horse\n",
    "* ship\n",
    "* truck\n",
    "\n",
    "Understanding a dataset is part of making predictions on the data.  Play around with the code cell below by changing the `batch_id` and `sample_id`. The `batch_id` is the id for a batch (1-5). The `sample_id` is the id for a image and label pair in the batch.\n",
    "\n",
    "Ask yourself \"What are all possible labels?\", \"What is the range of values for the image data?\", \"Are the labels in order or random?\".  Answers to questions like these will help you preprocess the data and end up with better predictions."
   ]
  },
  {
   "cell_type": "code",
   "execution_count": 2,
   "metadata": {
    "collapsed": false,
    "deletable": true,
    "editable": true
   },
   "outputs": [
    {
     "name": "stdout",
     "output_type": "stream",
     "text": [
      "\n",
      "Stats of batch 3:\n",
      "Samples: 10000\n",
      "Label Counts: {0: 994, 1: 1042, 2: 965, 3: 997, 4: 990, 5: 1029, 6: 978, 7: 1015, 8: 961, 9: 1029}\n",
      "First 20 Labels: [8, 5, 0, 6, 9, 2, 8, 3, 6, 2, 7, 4, 6, 9, 0, 0, 7, 3, 7, 2]\n",
      "\n",
      "Example of Image 7:\n",
      "Image - Min Value: 12 Max Value: 254\n",
      "Image - Shape: (32, 32, 3)\n",
      "Label - Label Id: 3 Name: cat\n"
     ]
    },
    {
     "data": {
      "image/png": "[encoded data removed]",
      "text/plain": [
       "<matplotlib.figure.Figure at 0x7f1a6aadd630>"
      ]
     },
     "metadata": {
      "image/png": {
       "height": 250,
       "width": 253
      }
     },
     "output_type": "display_data"
    }
   ],
   "source": [
    "%matplotlib inline\n",
    "%config InlineBackend.figure_format = 'retina'\n",
    "\n",
    "import helper\n",
    "import numpy as np\n",
    "\n",
    "# Explore the dataset\n",
    "batch_id = 3\n",
    "sample_id = 7\n",
    "helper.display_stats(cifar10_dataset_folder_path, batch_id, sample_id)"
   ]
  },
  {
   "cell_type": "markdown",
   "metadata": {
    "deletable": true,
    "editable": true
   },
   "source": [
    "## Implement Preprocess Functions\n",
    "### Normalize\n",
    "In the cell below, implement the `normalize` function to take in image data, `x`, and return it as a normalized Numpy array. The values should be in the range of 0 to 1, inclusive.  The return object should be the same shape as `x`."
   ]
  },
  {
   "cell_type": "code",
   "execution_count": 3,
   "metadata": {
    "collapsed": false,
    "deletable": true,
    "editable": true
   },
   "outputs": [
    {
     "name": "stdout",
     "output_type": "stream",
     "text": [
      "Tests Passed\n"
     ]
    }
   ],
   "source": [
    "def normalize(x):\n",
    "    \"\"\"\n",
    "    Normalize a list of sample image data in the range of 0 to 1\n",
    "    : x: List of image data.  The image shape is (32, 32, 3)\n",
    "    : return: Numpy array of normalize data\n",
    "    \"\"\"\n",
    "    # TODO: Implement Function\n",
    "    return np.array(x / x.max())\n",
    "\n",
    "\n",
    "\"\"\"\n",
    "DON'T MODIFY ANYTHING IN THIS CELL THAT IS BELOW THIS LINE\n",
    "\"\"\"\n",
    "tests.test_normalize(normalize)"
   ]
  },
  {
   "cell_type": "markdown",
   "metadata": {
    "deletable": true,
    "editable": true
   },
   "source": [
    "### One-hot encode\n",
    "Just like the previous code cell, you'll be implementing a function for preprocessing.  This time, you'll implement the `one_hot_encode` function. The input, `x`, are a list of labels.  Implement the function to return the list of labels as One-Hot encoded Numpy array.  The possible values for labels are 0 to 9. The one-hot encoding function should return the same encoding for each value between each call to `one_hot_encode`.  Make sure to save the map of encodings outside the function.\n",
    "\n",
    "Hint: Don't reinvent the wheel."
   ]
  },
  {
   "cell_type": "code",
   "execution_count": 4,
   "metadata": {
    "collapsed": false,
    "deletable": true,
    "editable": true
   },
   "outputs": [
    {
     "name": "stdout",
     "output_type": "stream",
     "text": [
      "Tests Passed\n"
     ]
    }
   ],
   "source": [
    "def one_hot_encode(x):\n",
    "    \"\"\"\n",
    "    One hot encode a list of sample labels. Return a one-hot encoded vector for each label.\n",
    "    : x: List of sample Labels\n",
    "    : return: Numpy array of one-hot encoded labels\n",
    "    \"\"\"\n",
    "    # TODO: Implement Function\n",
    "    \n",
    "    oneHotVector = list()\n",
    "    for idx, label in enumerate(x):\n",
    "        labelVec = np.zeros(10)\n",
    "        np.put(labelVec, label, 1)\n",
    "        oneHotVector.append(labelVec)\n",
    "    \n",
    "    return np.asarray(oneHotVector)\n",
    "\n",
    "    # Alternative code using SkLearn and Pandas\n",
    "    \n",
    "    #from sklearn.preprocessing import OneHotEncoder\n",
    "    #from pandas import DataFrame\n",
    "    #oneHotEncoder = OneHotEncoder(n_values=10)\n",
    "    #dataframe = DataFrame(x)\n",
    "    #dataframe = oneHotEncoder.fit_transform(dataframe)\n",
    "    #return dataframe.toarray()\n",
    "\n",
    "\"\"\"\n",
    "DON'T MODIFY ANYTHING IN THIS CELL THAT IS BELOW THIS LINE\n",
    "\"\"\"\n",
    "tests.test_one_hot_encode(one_hot_encode)"
   ]
  },
  {
   "cell_type": "markdown",
   "metadata": {
    "deletable": true,
    "editable": true
   },
   "source": [
    "### Randomize Data\n",
    "As you saw from exploring the data above, the order of the samples are randomized.  It doesn't hurt to randomize it again, but you don't need to for this dataset."
   ]
  },
  {
   "cell_type": "markdown",
   "metadata": {
    "deletable": true,
    "editable": true
   },
   "source": [
    "## Preprocess all the data and save it\n",
    "Running the code cell below will preprocess all the CIFAR-10 data and save it to file. The code below also uses 10% of the training data for validation."
   ]
  },
  {
   "cell_type": "code",
   "execution_count": 5,
   "metadata": {
    "collapsed": false,
    "deletable": true,
    "editable": true
   },
   "outputs": [],
   "source": [
    "\"\"\"\n",
    "DON'T MODIFY ANYTHING IN THIS CELL\n",
    "\"\"\"\n",
    "# Preprocess Training, Validation, and Testing Data\n",
    "helper.preprocess_and_save_data(cifar10_dataset_folder_path, normalize, one_hot_encode)"
   ]
  },
  {
   "cell_type": "markdown",
   "metadata": {
    "deletable": true,
    "editable": true
   },
   "source": [
    "# Check Point\n",
    "This is your first checkpoint.  If you ever decide to come back to this notebook or have to restart the notebook, you can start from here.  The preprocessed data has been saved to disk."
   ]
  },
  {
   "cell_type": "code",
   "execution_count": 6,
   "metadata": {
    "collapsed": true,
    "deletable": true,
    "editable": true
   },
   "outputs": [],
   "source": [
    "\"\"\"\n",
    "DON'T MODIFY ANYTHING IN THIS CELL\n",
    "\"\"\"\n",
    "import pickle\n",
    "import problem_unittests as tests\n",
    "import helper\n",
    "\n",
    "# Load the Preprocessed Validation data\n",
    "valid_features, valid_labels = pickle.load(open('preprocess_validation.p', mode='rb'))"
   ]
  },
  {
   "cell_type": "markdown",
   "metadata": {
    "deletable": true,
    "editable": true
   },
   "source": [
    "## Build the network\n",
    "For the neural network, you'll build each layer into a function.  Most of the code you've seen has been outside of functions. To test your code more thoroughly, we require that you put each layer in a function.  This allows us to give you better feedback and test for simple mistakes using our unittests before you submit your project.\n",
    "\n",
    ">**Note:** If you're finding it hard to dedicate enough time for this course each week, we've provided a small shortcut to this part of the project. In the next couple of problems, you'll have the option to use classes from the [TensorFlow Layers](https://www.tensorflow.org/api_docs/python/tf/layers) or [TensorFlow Layers (contrib)](https://www.tensorflow.org/api_guides/python/contrib.layers) packages to build each layer, except the layers you build in the \"Convolutional and Max Pooling Layer\" section.  TF Layers is similar to Keras's and TFLearn's abstraction to layers, so it's easy to pickup.\n",
    "\n",
    ">However, if you would like to get the most out of this course, try to solve all the problems _without_ using anything from the TF Layers packages. You **can** still use classes from other packages that happen to have the same name as ones you find in TF Layers! For example, instead of using the TF Layers version of the `conv2d` class, [tf.layers.conv2d](https://www.tensorflow.org/api_docs/python/tf/layers/conv2d), you would want to use the TF Neural Network version of `conv2d`, [tf.nn.conv2d](https://www.tensorflow.org/api_docs/python/tf/nn/conv2d). \n",
    "\n",
    "Let's begin!\n",
    "\n",
    "### Input\n",
    "The neural network needs to read the image data, one-hot encoded labels, and dropout keep probability. Implement the following functions\n",
    "* Implement `neural_net_image_input`\n",
    " * Return a [TF Placeholder](https://www.tensorflow.org/api_docs/python/tf/placeholder)\n",
    " * Set the shape using `image_shape` with batch size set to `None`.\n",
    " * Name the TensorFlow placeholder \"x\" using the TensorFlow `name` parameter in the [TF Placeholder](https://www.tensorflow.org/api_docs/python/tf/placeholder).\n",
    "* Implement `neural_net_label_input`\n",
    " * Return a [TF Placeholder](https://www.tensorflow.org/api_docs/python/tf/placeholder)\n",
    " * Set the shape using `n_classes` with batch size set to `None`.\n",
    " * Name the TensorFlow placeholder \"y\" using the TensorFlow `name` parameter in the [TF Placeholder](https://www.tensorflow.org/api_docs/python/tf/placeholder).\n",
    "* Implement `neural_net_keep_prob_input`\n",
    " * Return a [TF Placeholder](https://www.tensorflow.org/api_docs/python/tf/placeholder) for dropout keep probability.\n",
    " * Name the TensorFlow placeholder \"keep_prob\" using the TensorFlow `name` parameter in the [TF Placeholder](https://www.tensorflow.org/api_docs/python/tf/placeholder).\n",
    "\n",
    "These names will be used at the end of the project to load your saved model.\n",
    "\n",
    "Note: `None` for shapes in TensorFlow allow for a dynamic size."
   ]
  },
  {
   "cell_type": "code",
   "execution_count": 7,
   "metadata": {
    "collapsed": false,
    "deletable": true,
    "editable": true
   },
   "outputs": [
    {
     "name": "stdout",
     "output_type": "stream",
     "text": [
      "Image Input Tests Passed.\n",
      "Label Input Tests Passed.\n",
      "Keep Prob Tests Passed.\n"
     ]
    }
   ],
   "source": [
    "import tensorflow as tf\n",
    "\n",
    "def neural_net_image_input(image_shape):\n",
    "    \"\"\"\n",
    "    Return a Tensor for a bach of image input\n",
    "    : image_shape: Shape of the images\n",
    "    : return: Tensor for image input.\n",
    "    \"\"\"\n",
    "    # TODO: Implement Function\n",
    "    return tf.placeholder(tf.float32, shape = [None, *image_shape], name = \"x\")\n",
    "\n",
    "\n",
    "def neural_net_label_input(n_classes):\n",
    "    \"\"\"\n",
    "    Return a Tensor for a batch of label input\n",
    "    : n_classes: Number of classes\n",
    "    : return: Tensor for label input.\n",
    "    \"\"\"\n",
    "    # TODO: Implement Function\n",
    "    return tf.placeholder(tf.float32, shape = [None, n_classes], name = \"y\")\n",
    "\n",
    "\n",
    "def neural_net_keep_prob_input():\n",
    "    \"\"\"\n",
    "    Return a Tensor for keep probability\n",
    "    : return: Tensor for keep probability.\n",
    "    \"\"\"\n",
    "    # TODO: Implement Function\n",
    "    return tf.placeholder(tf.float32, name = \"keep_prob\")\n",
    "\n",
    "\n",
    "\"\"\"\n",
    "DON'T MODIFY ANYTHING IN THIS CELL THAT IS BELOW THIS LINE\n",
    "\"\"\"\n",
    "tf.reset_default_graph()\n",
    "tests.test_nn_image_inputs(neural_net_image_input)\n",
    "tests.test_nn_label_inputs(neural_net_label_input)\n",
    "tests.test_nn_keep_prob_inputs(neural_net_keep_prob_input)"
   ]
  },
  {
   "cell_type": "markdown",
   "metadata": {
    "deletable": true,
    "editable": true
   },
   "source": [
    "### Convolution and Max Pooling Layer\n",
    "Convolution layers have a lot of success with images. For this code cell, you should implement the function `conv2d_maxpool` to apply convolution then max pooling:\n",
    "* Create the weight and bias using `conv_ksize`, `conv_num_outputs` and the shape of `x_tensor`.\n",
    "* Apply a convolution to `x_tensor` using weight and `conv_strides`.\n",
    " * We recommend you use same padding, but you're welcome to use any padding.\n",
    "* Add bias\n",
    "* Add a nonlinear activation to the convolution.\n",
    "* Apply Max Pooling using `pool_ksize` and `pool_strides`.\n",
    " * We recommend you use same padding, but you're welcome to use any padding.\n",
    "\n",
    "**Note:** You **can't** use [TensorFlow Layers](https://www.tensorflow.org/api_docs/python/tf/layers) or [TensorFlow Layers (contrib)](https://www.tensorflow.org/api_guides/python/contrib.layers) for **this** layer, but you can still use TensorFlow's [Neural Network](https://www.tensorflow.org/api_docs/python/tf/nn) package. You may still use the shortcut option for all the **other** layers."
   ]
  },
  {
   "cell_type": "code",
   "execution_count": 8,
   "metadata": {
    "collapsed": false,
    "deletable": true,
    "editable": true
   },
   "outputs": [
    {
     "name": "stdout",
     "output_type": "stream",
     "text": [
      "Tests Passed\n"
     ]
    }
   ],
   "source": [
    "def conv2d_maxpool(x_tensor, conv_num_outputs, conv_ksize, conv_strides, pool_ksize, pool_strides):\n",
    "    \"\"\"\n",
    "    Apply convolution then max pooling to x_tensor\n",
    "    :param x_tensor: TensorFlow Tensor\n",
    "    :param conv_num_outputs: Number of outputs for the convolutional layer\n",
    "    :param conv_ksize: kernal size 2-D Tuple for the convolutional layer\n",
    "    :param conv_strides: Stride 2-D Tuple for convolution\n",
    "    :param pool_ksize: kernal size 2-D Tuple for pool\n",
    "    :param pool_strides: Stride 2-D Tuple for pool\n",
    "    : return: A tensor that represents convolution and max pooling of x_tensor\n",
    "    \"\"\"\n",
    "    # TODO: Implement Function\n",
    "    #Weights and bias\n",
    "    weights = tf.Variable(tf.truncated_normal([conv_ksize[0], conv_ksize[1], x_tensor.get_shape().as_list()[3], conv_num_outputs], mean=0.0, stddev=0.05))\n",
    "    bias = tf.Variable(tf.zeros([conv_num_outputs]))\n",
    "    \n",
    "    #Convolution\n",
    "    padding = \"SAME\"    \n",
    "    conv = tf.nn.conv2d(x_tensor, weights, strides = [1, conv_strides[0], conv_strides[1], 1], padding=padding)\n",
    "    conv = tf.nn.bias_add(conv, bias)\n",
    "    conv = tf.nn.relu(conv)\n",
    "    \n",
    "    #Max Pooling\n",
    "    conv = tf.nn.max_pool(conv, ksize = [1, pool_ksize[0], pool_ksize[1], 1], strides = [1, pool_strides[0], pool_strides[1], 1], padding=padding)\n",
    "    \n",
    "    return conv\n",
    "\n",
    "\n",
    "\"\"\"\n",
    "DON'T MODIFY ANYTHING IN THIS CELL THAT IS BELOW THIS LINE\n",
    "\"\"\"\n",
    "tests.test_con_pool(conv2d_maxpool)"
   ]
  },
  {
   "cell_type": "markdown",
   "metadata": {
    "deletable": true,
    "editable": true
   },
   "source": [
    "### Flatten Layer\n",
    "Implement the `flatten` function to change the dimension of `x_tensor` from a 4-D tensor to a 2-D tensor.  The output should be the shape (*Batch Size*, *Flattened Image Size*). Shortcut option: you can use classes from the [TensorFlow Layers](https://www.tensorflow.org/api_docs/python/tf/layers) or [TensorFlow Layers (contrib)](https://www.tensorflow.org/api_guides/python/contrib.layers) packages for this layer. For more of a challenge, only use other TensorFlow packages."
   ]
  },
  {
   "cell_type": "code",
   "execution_count": 9,
   "metadata": {
    "collapsed": false,
    "deletable": true,
    "editable": true
   },
   "outputs": [
    {
     "name": "stdout",
     "output_type": "stream",
     "text": [
      "Tests Passed\n"
     ]
    }
   ],
   "source": [
    "def flatten(x_tensor):\n",
    "    \"\"\"\n",
    "    Flatten x_tensor to (Batch Size, Flattened Image Size)\n",
    "    : x_tensor: A tensor of size (Batch Size, ...), where ... are the image dimensions.\n",
    "    : return: A tensor of size (Batch Size, Flattened Image Size).\n",
    "    \"\"\"\n",
    "    \n",
    "    return tf.contrib.layers.flatten(x_tensor)\n",
    "\n",
    "\"\"\"\n",
    "DON'T MODIFY ANYTHING IN THIS CELL THAT IS BELOW THIS LINE\n",
    "\"\"\"\n",
    "tests.test_flatten(flatten)"
   ]
  },
  {
   "cell_type": "markdown",
   "metadata": {
    "deletable": true,
    "editable": true
   },
   "source": [
    "### Fully-Connected Layer\n",
    "Implement the `fully_conn` function to apply a fully connected layer to `x_tensor` with the shape (*Batch Size*, *num_outputs*). Shortcut option: you can use classes from the [TensorFlow Layers](https://www.tensorflow.org/api_docs/python/tf/layers) or [TensorFlow Layers (contrib)](https://www.tensorflow.org/api_guides/python/contrib.layers) packages for this layer. For more of a challenge, only use other TensorFlow packages."
   ]
  },
  {
   "cell_type": "code",
   "execution_count": 10,
   "metadata": {
    "collapsed": false,
    "deletable": true,
    "editable": true
   },
   "outputs": [
    {
     "name": "stdout",
     "output_type": "stream",
     "text": [
      "Tests Passed\n"
     ]
    }
   ],
   "source": [
    "def fully_conn(x_tensor, num_outputs):\n",
    "    \"\"\"\n",
    "    Apply a fully connected layer to x_tensor using weight and bias\n",
    "    : x_tensor: A 2-D tensor where the first dimension is batch size.\n",
    "    : num_outputs: The number of output that the new tensor should be.\n",
    "    : return: A 2-D tensor where the second dimension is num_outputs.\n",
    "    \"\"\"\n",
    "    # TODO: Implement Function\n",
    "    \n",
    "    weight = tf.Variable (tf.truncated_normal([x_tensor.get_shape().as_list()[1], num_outputs], mean=0.0, stddev=0.05))\n",
    "    bias = tf.Variable (tf.zeros(num_outputs))\n",
    "\n",
    "    layer = tf.add(tf.matmul(x_tensor, weight), bias)\n",
    "    return tf.nn.relu (layer)\n",
    "\n",
    "\n",
    "\"\"\"\n",
    "DON'T MODIFY ANYTHING IN THIS CELL THAT IS BELOW THIS LINE\n",
    "\"\"\"\n",
    "tests.test_fully_conn(fully_conn)"
   ]
  },
  {
   "cell_type": "markdown",
   "metadata": {
    "deletable": true,
    "editable": true
   },
   "source": [
    "### Output Layer\n",
    "Implement the `output` function to apply a fully connected layer to `x_tensor` with the shape (*Batch Size*, *num_outputs*). Shortcut option: you can use classes from the [TensorFlow Layers](https://www.tensorflow.org/api_docs/python/tf/layers) or [TensorFlow Layers (contrib)](https://www.tensorflow.org/api_guides/python/contrib.layers) packages for this layer. For more of a challenge, only use other TensorFlow packages.\n",
    "\n",
    "**Note:** Activation, softmax, or cross entropy should **not** be applied to this."
   ]
  },
  {
   "cell_type": "code",
   "execution_count": 11,
   "metadata": {
    "collapsed": false,
    "deletable": true,
    "editable": true
   },
   "outputs": [
    {
     "name": "stdout",
     "output_type": "stream",
     "text": [
      "Tests Passed\n"
     ]
    }
   ],
   "source": [
    "def output(x_tensor, num_outputs):\n",
    "    \"\"\"\n",
    "    Apply a output layer to x_tensor using weight and bias\n",
    "    : x_tensor: A 2-D tensor where the first dimension is batch size.\n",
    "    : num_outputs: The number of output that the new tensor should be.\n",
    "    : return: A 2-D tensor where the second dimension is num_outputs.\n",
    "    \"\"\"\n",
    "    # TODO: Implement Function\n",
    "    \n",
    "    weight = tf.Variable(tf.random_normal([x_tensor.get_shape().as_list()[1], num_outputs]))\n",
    "    bias = tf.Variable(tf.random_normal([num_outputs]))\n",
    "    return tf.add(tf.matmul(x_tensor, weight), bias)\n",
    "   \n",
    "\n",
    "\"\"\"\n",
    "DON'T MODIFY ANYTHING IN THIS CELL THAT IS BELOW THIS LINE\n",
    "\"\"\"\n",
    "tests.test_output(output)"
   ]
  },
  {
   "cell_type": "markdown",
   "metadata": {
    "deletable": true,
    "editable": true
   },
   "source": [
    "### Create Convolutional Model\n",
    "Implement the function `conv_net` to create a convolutional neural network model. The function takes in a batch of images, `x`, and outputs logits.  Use the layers you created above to create this model:\n",
    "\n",
    "* Apply 1, 2, or 3 Convolution and Max Pool layers\n",
    "* Apply a Flatten Layer\n",
    "* Apply 1, 2, or 3 Fully Connected Layers\n",
    "* Apply an Output Layer\n",
    "* Return the output\n",
    "* Apply [TensorFlow's Dropout](https://www.tensorflow.org/api_docs/python/tf/nn/dropout) to one or more layers in the model using `keep_prob`. "
   ]
  },
  {
   "cell_type": "code",
   "execution_count": 12,
   "metadata": {
    "collapsed": false,
    "deletable": true,
    "editable": true
   },
   "outputs": [
    {
     "name": "stdout",
     "output_type": "stream",
     "text": [
      "Neural Network Built!\n"
     ]
    }
   ],
   "source": [
    "def conv_net(x, keep_prob):\n",
    "    \"\"\"\n",
    "    Create a convolutional neural network model\n",
    "    : x: Placeholder tensor that holds image data.\n",
    "    : keep_prob: Placeholder tensor that hold dropout keep probability.\n",
    "    : return: Tensor that represents logits\n",
    "    \"\"\"\n",
    "    # TODO: Apply 1, 2, or 3 Convolution and Max Pool layers\n",
    "    #    Play around with different number of outputs, kernel size and stride\n",
    "    # Function Definition from Above:\n",
    "    #    conv2d_maxpool(x_tensor, conv_num_outputs, conv_ksize, conv_strides, pool_ksize, pool_strides)\n",
    "    x_tensor = conv2d_maxpool(x, 64, (3, 3), (1, 1), (2, 2), (2, 2))\n",
    "    x_tensor = conv2d_maxpool(x_tensor, 128, (3, 3), (1, 1), (2, 2), (2, 2))\n",
    "    x_tensor = conv2d_maxpool(x_tensor, 256, (3, 3), (1, 1), (2, 2), (2, 2))\n",
    "        \n",
    "    # TODO: Apply a Flatten Layer\n",
    "    # Function Definition from Above:\n",
    "    #   flatten(x_tensor)\n",
    "    x_tensor = flatten(x_tensor)\n",
    "\n",
    "    # TODO: Apply 1, 2, or 3 Fully Connected Layers\n",
    "    #    Play around with different number of outputs\n",
    "    # Function Definition from Above:\n",
    "    #   fully_conn(x_tensor, num_outputs)\n",
    "    x_tensor = fully_conn(x_tensor, 512)\n",
    "    #x_tensor = tf.nn.dropout(x_tensor, keep_prob)\n",
    "    \n",
    "    # TODO: Apply an Output Layer\n",
    "    #    Set this to the number of classes\n",
    "    # Function Definition from Above:\n",
    "    #   output(x_tensor, num_outputs)\n",
    "    out = output(x_tensor, 10)\n",
    "    \n",
    "    \n",
    "    # TODO: return output\n",
    "    return out\n",
    "\n",
    "\n",
    "\"\"\"\n",
    "DON'T MODIFY ANYTHING IN THIS CELL THAT IS BELOW THIS LINE\n",
    "\"\"\"\n",
    "\n",
    "##############################\n",
    "## Build the Neural Network ##\n",
    "##############################\n",
    "\n",
    "# Remove previous weights, bias, inputs, etc..\n",
    "tf.reset_default_graph()\n",
    "\n",
    "# Inputs\n",
    "x = neural_net_image_input((32, 32, 3))\n",
    "y = neural_net_label_input(10)\n",
    "keep_prob = neural_net_keep_prob_input()\n",
    "\n",
    "# Model\n",
    "logits = conv_net(x, keep_prob)\n",
    "\n",
    "# Name logits Tensor, so that is can be loaded from disk after training\n",
    "logits = tf.identity(logits, name='logits')\n",
    "\n",
    "# Loss and Optimizer\n",
    "cost = tf.reduce_mean(tf.nn.softmax_cross_entropy_with_logits(logits=logits, labels=y))\n",
    "optimizer = tf.train.AdamOptimizer().minimize(cost)\n",
    "\n",
    "# Accuracy\n",
    "correct_pred = tf.equal(tf.argmax(logits, 1), tf.argmax(y, 1))\n",
    "accuracy = tf.reduce_mean(tf.cast(correct_pred, tf.float32), name='accuracy')\n",
    "\n",
    "tests.test_conv_net(conv_net)"
   ]
  },
  {
   "cell_type": "markdown",
   "metadata": {
    "deletable": true,
    "editable": true
   },
   "source": [
    "## Train the Neural Network\n",
    "### Single Optimization\n",
    "Implement the function `train_neural_network` to do a single optimization.  The optimization should use `optimizer` to optimize in `session` with a `feed_dict` of the following:\n",
    "* `x` for image input\n",
    "* `y` for labels\n",
    "* `keep_prob` for keep probability for dropout\n",
    "\n",
    "This function will be called for each batch, so `tf.global_variables_initializer()` has already been called.\n",
    "\n",
    "Note: Nothing needs to be returned. This function is only optimizing the neural network."
   ]
  },
  {
   "cell_type": "code",
   "execution_count": 13,
   "metadata": {
    "collapsed": false,
    "deletable": true,
    "editable": true
   },
   "outputs": [
    {
     "name": "stdout",
     "output_type": "stream",
     "text": [
      "Tests Passed\n"
     ]
    }
   ],
   "source": [
    "def train_neural_network(session, optimizer, keep_probability, feature_batch, label_batch):\n",
    "    \"\"\"\n",
    "    Optimize the session on a batch of images and labels\n",
    "    : session: Current TensorFlow session\n",
    "    : optimizer: TensorFlow optimizer function\n",
    "    : keep_probability: keep probability\n",
    "    : feature_batch: Batch of Numpy image data\n",
    "    : label_batch: Batch of Numpy label data\n",
    "    \"\"\"\n",
    "    # TODO: Implement Function\n",
    "    session.run(optimizer, feed_dict = { x: feature_batch, y: label_batch, keep_prob: keep_probability })\n",
    "\n",
    "\"\"\"\n",
    "DON'T MODIFY ANYTHING IN THIS CELL THAT IS BELOW THIS LINE\n",
    "\"\"\"\n",
    "tests.test_train_nn(train_neural_network)"
   ]
  },
  {
   "cell_type": "markdown",
   "metadata": {
    "deletable": true,
    "editable": true
   },
   "source": [
    "### Show Stats\n",
    "Implement the function `print_stats` to print loss and validation accuracy.  Use the global variables `valid_features` and `valid_labels` to calculate validation accuracy.  Use a keep probability of `1.0` to calculate the loss and validation accuracy."
   ]
  },
  {
   "cell_type": "code",
   "execution_count": 14,
   "metadata": {
    "collapsed": false,
    "deletable": true,
    "editable": true
   },
   "outputs": [],
   "source": [
    "def print_stats(session, feature_batch, label_batch, cost, accuracy):\n",
    "    \"\"\"\n",
    "    Print information about loss and validation accuracy\n",
    "    : session: Current TensorFlow session\n",
    "    : feature_batch: Batch of Numpy image data\n",
    "    : label_batch: Batch of Numpy label data\n",
    "    : cost: TensorFlow cost function\n",
    "    : accuracy: TensorFlow accuracy function\n",
    "    \"\"\"\n",
    "    # TODO: Implement Function\n",
    "    costResult = session.run(cost, feed_dict={ x: feature_batch, y: label_batch, keep_prob:1.0 })        \n",
    "    accuracyResult = session.run(accuracy, feed_dict={ x: valid_features, y: valid_labels, keep_prob:1.0 })\n",
    "    print('Cost: {}'.format(costResult) + ' - Accuracy: {}'.format(accuracyResult))"
   ]
  },
  {
   "cell_type": "markdown",
   "metadata": {
    "deletable": true,
    "editable": true
   },
   "source": [
    "### Hyperparameters\n",
    "Tune the following parameters:\n",
    "* Set `epochs` to the number of iterations until the network stops learning or start overfitting\n",
    "* Set `batch_size` to the highest number that your machine has memory for.  Most people set them to common sizes of memory:\n",
    " * 64\n",
    " * 128\n",
    " * 256\n",
    " * ...\n",
    "* Set `keep_probability` to the probability of keeping a node using dropout"
   ]
  },
  {
   "cell_type": "code",
   "execution_count": 15,
   "metadata": {
    "collapsed": true,
    "deletable": true,
    "editable": true
   },
   "outputs": [],
   "source": [
    "# TODO: Tune Parameters\n",
    "epochs = 50\n",
    "batch_size = 256\n",
    "keep_probability = 0.75"
   ]
  },
  {
   "cell_type": "markdown",
   "metadata": {
    "deletable": true,
    "editable": true
   },
   "source": [
    "### Train on a Single CIFAR-10 Batch\n",
    "Instead of training the neural network on all the CIFAR-10 batches of data, let's use a single batch. This should save time while you iterate on the model to get a better accuracy.  Once the final validation accuracy is 50% or greater, run the model on all the data in the next section."
   ]
  },
  {
   "cell_type": "code",
   "execution_count": 16,
   "metadata": {
    "collapsed": false,
    "deletable": true,
    "editable": true
   },
   "outputs": [
    {
     "name": "stdout",
     "output_type": "stream",
     "text": [
      "Checking the Training on a Single Batch...\n",
      "Epoch  1, CIFAR-10 Batch 1:  Cost: 2.027331590652466 - Accuracy: 0.3017999827861786\n",
      "Epoch  2, CIFAR-10 Batch 1:  Cost: 1.5963447093963623 - Accuracy: 0.3709999918937683\n",
      "Epoch  3, CIFAR-10 Batch 1:  Cost: 1.2342191934585571 - Accuracy: 0.47339990735054016\n",
      "Epoch  4, CIFAR-10 Batch 1:  Cost: 0.9723286032676697 - Accuracy: 0.5007999539375305\n",
      "Epoch  5, CIFAR-10 Batch 1:  Cost: 0.6807222962379456 - Accuracy: 0.5009999871253967\n",
      "Epoch  6, CIFAR-10 Batch 1:  Cost: 0.47415775060653687 - Accuracy: 0.5383999347686768\n",
      "Epoch  7, CIFAR-10 Batch 1:  Cost: 0.36967217922210693 - Accuracy: 0.5621999502182007\n",
      "Epoch  8, CIFAR-10 Batch 1:  Cost: 0.24433696269989014 - Accuracy: 0.5917998552322388\n",
      "Epoch  9, CIFAR-10 Batch 1:  Cost: 0.2053786963224411 - Accuracy: 0.5995998978614807\n",
      "Epoch 10, CIFAR-10 Batch 1:  Cost: 0.1159718930721283 - Accuracy: 0.5825998783111572\n",
      "Epoch 11, CIFAR-10 Batch 1:  Cost: 0.10745568573474884 - Accuracy: 0.5805999040603638\n",
      "Epoch 12, CIFAR-10 Batch 1:  Cost: 0.07054410874843597 - Accuracy: 0.614599883556366\n",
      "Epoch 13, CIFAR-10 Batch 1:  Cost: 0.07428844273090363 - Accuracy: 0.5575999617576599\n",
      "Epoch 14, CIFAR-10 Batch 1:  Cost: 0.0842195376753807 - Accuracy: 0.5437999367713928\n",
      "Epoch 15, CIFAR-10 Batch 1:  Cost: 0.03374406695365906 - Accuracy: 0.5721999406814575\n",
      "Epoch 16, CIFAR-10 Batch 1:  Cost: 0.032783083617687225 - Accuracy: 0.5237999558448792\n",
      "Epoch 17, CIFAR-10 Batch 1:  Cost: 0.01662592776119709 - Accuracy: 0.6039999723434448\n",
      "Epoch 18, CIFAR-10 Batch 1:  Cost: 0.01774091273546219 - Accuracy: 0.5791999697685242\n",
      "Epoch 19, CIFAR-10 Batch 1:  Cost: 0.020945467054843903 - Accuracy: 0.5669999122619629\n",
      "Epoch 20, CIFAR-10 Batch 1:  Cost: 0.024474749341607094 - Accuracy: 0.571199893951416\n",
      "Epoch 21, CIFAR-10 Batch 1:  Cost: 0.01734982430934906 - Accuracy: 0.605199933052063\n",
      "Epoch 22, CIFAR-10 Batch 1:  Cost: 0.01724712923169136 - Accuracy: 0.5865999460220337\n",
      "Epoch 23, CIFAR-10 Batch 1:  Cost: 0.007779461331665516 - Accuracy: 0.5835999250411987\n",
      "Epoch 24, CIFAR-10 Batch 1:  Cost: 0.0043284157291054726 - Accuracy: 0.6243999600410461\n",
      "Epoch 25, CIFAR-10 Batch 1:  Cost: 0.0043207635171711445 - Accuracy: 0.6263998746871948\n",
      "Epoch 26, CIFAR-10 Batch 1:  Cost: 0.003331610467284918 - Accuracy: 0.6143999099731445\n",
      "Epoch 27, CIFAR-10 Batch 1:  Cost: 0.0029055075719952583 - Accuracy: 0.6085999011993408\n",
      "Epoch 28, CIFAR-10 Batch 1:  Cost: 0.0025468766689300537 - Accuracy: 0.6017999053001404\n",
      "Epoch 29, CIFAR-10 Batch 1:  Cost: 0.0014488652814179659 - Accuracy: 0.6181999444961548\n",
      "Epoch 30, CIFAR-10 Batch 1:  Cost: 0.001994549762457609 - Accuracy: 0.6071999073028564\n",
      "Epoch 31, CIFAR-10 Batch 1:  Cost: 0.0008118984987959266 - Accuracy: 0.625999927520752\n",
      "Epoch 32, CIFAR-10 Batch 1:  Cost: 0.001483079744502902 - Accuracy: 0.6239999532699585\n",
      "Epoch 33, CIFAR-10 Batch 1:  Cost: 0.0013929458800703287 - Accuracy: 0.6233999133110046\n",
      "Epoch 34, CIFAR-10 Batch 1:  Cost: 0.0010360900778323412 - Accuracy: 0.6141998767852783\n",
      "Epoch 35, CIFAR-10 Batch 1:  Cost: 0.0003273184411227703 - Accuracy: 0.6275998950004578\n",
      "Epoch 36, CIFAR-10 Batch 1:  Cost: 0.0001771928509697318 - Accuracy: 0.6329998970031738\n",
      "Epoch 37, CIFAR-10 Batch 1:  Cost: 0.00013279594713822007 - Accuracy: 0.6325998902320862\n",
      "Epoch 38, CIFAR-10 Batch 1:  Cost: 6.010814104229212e-05 - Accuracy: 0.6345998644828796\n",
      "Epoch 39, CIFAR-10 Batch 1:  Cost: 4.645466833608225e-05 - Accuracy: 0.6369999051094055\n",
      "Epoch 40, CIFAR-10 Batch 1:  Cost: 3.874212779919617e-05 - Accuracy: 0.6365998983383179\n",
      "Epoch 41, CIFAR-10 Batch 1:  Cost: 3.3890752092702314e-05 - Accuracy: 0.637199878692627\n",
      "Epoch 42, CIFAR-10 Batch 1:  Cost: 3.0048486223677173e-05 - Accuracy: 0.6371999382972717\n",
      "Epoch 43, CIFAR-10 Batch 1:  Cost: 2.7105479603051208e-05 - Accuracy: 0.6375998854637146\n",
      "Epoch 44, CIFAR-10 Batch 1:  Cost: 2.4668748665135354e-05 - Accuracy: 0.637199878692627\n",
      "Epoch 45, CIFAR-10 Batch 1:  Cost: 2.2532800358021632e-05 - Accuracy: 0.6373999118804932\n",
      "Epoch 46, CIFAR-10 Batch 1:  Cost: 2.0715493519674055e-05 - Accuracy: 0.6377999186515808\n",
      "Epoch 47, CIFAR-10 Batch 1:  Cost: 1.9249691831646487e-05 - Accuracy: 0.6383998990058899\n",
      "Epoch 48, CIFAR-10 Batch 1:  Cost: 1.8043030650005676e-05 - Accuracy: 0.6381998658180237\n",
      "Epoch 49, CIFAR-10 Batch 1:  Cost: 1.7036003555404022e-05 - Accuracy: 0.6379998922348022\n",
      "Epoch 50, CIFAR-10 Batch 1:  Cost: 1.6058716937550344e-05 - Accuracy: 0.6383998990058899\n"
     ]
    }
   ],
   "source": [
    "\"\"\"\n",
    "DON'T MODIFY ANYTHING IN THIS CELL\n",
    "\"\"\"\n",
    "print('Checking the Training on a Single Batch...')\n",
    "with tf.Session() as sess:\n",
    "    # Initializing the variables\n",
    "    sess.run(tf.global_variables_initializer())\n",
    "    \n",
    "    # Training cycle\n",
    "    for epoch in range(epochs):\n",
    "        batch_i = 1\n",
    "        for batch_features, batch_labels in helper.load_preprocess_training_batch(batch_i, batch_size):\n",
    "            train_neural_network(sess, optimizer, keep_probability, batch_features, batch_labels)\n",
    "        print('Epoch {:>2}, CIFAR-10 Batch {}:  '.format(epoch + 1, batch_i), end='')\n",
    "        print_stats(sess, batch_features, batch_labels, cost, accuracy)"
   ]
  },
  {
   "cell_type": "markdown",
   "metadata": {
    "deletable": true,
    "editable": true
   },
   "source": [
    "### Fully Train the Model\n",
    "Now that you got a good accuracy with a single CIFAR-10 batch, try it with all five batches."
   ]
  },
  {
   "cell_type": "code",
   "execution_count": 17,
   "metadata": {
    "collapsed": false,
    "deletable": true,
    "editable": true
   },
   "outputs": [
    {
     "name": "stdout",
     "output_type": "stream",
     "text": [
      "Training...\n",
      "Epoch  1, CIFAR-10 Batch 1:  Cost: 2.1758675575256348 - Accuracy: 0.2529999613761902\n",
      "Epoch  1, CIFAR-10 Batch 2:  Cost: 1.6202383041381836 - Accuracy: 0.40059995651245117\n",
      "Epoch  1, CIFAR-10 Batch 3:  Cost: 1.3626501560211182 - Accuracy: 0.4591999650001526\n",
      "Epoch  1, CIFAR-10 Batch 4:  Cost: 1.2522567510604858 - Accuracy: 0.51419997215271\n",
      "Epoch  1, CIFAR-10 Batch 5:  Cost: 1.311291217803955 - Accuracy: 0.528999924659729\n",
      "Epoch  2, CIFAR-10 Batch 1:  Cost: 1.3634452819824219 - Accuracy: 0.5482000112533569\n",
      "Epoch  2, CIFAR-10 Batch 2:  Cost: 1.054328203201294 - Accuracy: 0.5295999050140381\n",
      "Epoch  2, CIFAR-10 Batch 3:  Cost: 0.8408803939819336 - Accuracy: 0.5773999094963074\n",
      "Epoch  2, CIFAR-10 Batch 4:  Cost: 0.7740796804428101 - Accuracy: 0.6053999662399292\n",
      "Epoch  2, CIFAR-10 Batch 5:  Cost: 0.8221092224121094 - Accuracy: 0.6243999600410461\n",
      "Epoch  3, CIFAR-10 Batch 1:  Cost: 0.8919610977172852 - Accuracy: 0.6143999695777893\n",
      "Epoch  3, CIFAR-10 Batch 2:  Cost: 0.5543626546859741 - Accuracy: 0.6487998962402344\n",
      "Epoch  3, CIFAR-10 Batch 3:  Cost: 0.41578370332717896 - Accuracy: 0.6485999226570129\n",
      "Epoch  3, CIFAR-10 Batch 4:  Cost: 0.5503453016281128 - Accuracy: 0.6413998603820801\n",
      "Epoch  3, CIFAR-10 Batch 5:  Cost: 0.44464966654777527 - Accuracy: 0.6761999130249023\n",
      "Epoch  4, CIFAR-10 Batch 1:  Cost: 0.5814511775970459 - Accuracy: 0.6283999085426331\n",
      "Epoch  4, CIFAR-10 Batch 2:  Cost: 0.28576791286468506 - Accuracy: 0.6751999258995056\n",
      "Epoch  4, CIFAR-10 Batch 3:  Cost: 0.2656291127204895 - Accuracy: 0.6775999069213867\n",
      "Epoch  4, CIFAR-10 Batch 4:  Cost: 0.331917405128479 - Accuracy: 0.6939997673034668\n",
      "Epoch  4, CIFAR-10 Batch 5:  Cost: 0.24580222368240356 - Accuracy: 0.6991998553276062\n",
      "Epoch  5, CIFAR-10 Batch 1:  Cost: 0.3019932806491852 - Accuracy: 0.6853998303413391\n",
      "Epoch  5, CIFAR-10 Batch 2:  Cost: 0.17707908153533936 - Accuracy: 0.6749998331069946\n",
      "Epoch  5, CIFAR-10 Batch 3:  Cost: 0.15617690980434418 - Accuracy: 0.6937998533248901\n",
      "Epoch  5, CIFAR-10 Batch 4:  Cost: 0.19774402678012848 - Accuracy: 0.7027998566627502\n",
      "Epoch  5, CIFAR-10 Batch 5:  Cost: 0.1391756236553192 - Accuracy: 0.703799843788147\n",
      "Epoch  6, CIFAR-10 Batch 1:  Cost: 0.15828967094421387 - Accuracy: 0.684199869632721\n",
      "Epoch  6, CIFAR-10 Batch 2:  Cost: 0.09149414300918579 - Accuracy: 0.6989999413490295\n",
      "Epoch  6, CIFAR-10 Batch 3:  Cost: 0.10710395872592926 - Accuracy: 0.6959998607635498\n",
      "Epoch  6, CIFAR-10 Batch 4:  Cost: 0.1546541154384613 - Accuracy: 0.6767998933792114\n",
      "Epoch  6, CIFAR-10 Batch 5:  Cost: 0.12946829199790955 - Accuracy: 0.6801998019218445\n",
      "Epoch  7, CIFAR-10 Batch 1:  Cost: 0.12686705589294434 - Accuracy: 0.6887998580932617\n",
      "Epoch  7, CIFAR-10 Batch 2:  Cost: 0.07847759127616882 - Accuracy: 0.7033998370170593\n",
      "Epoch  7, CIFAR-10 Batch 3:  Cost: 0.08217401057481766 - Accuracy: 0.6821998953819275\n",
      "Epoch  7, CIFAR-10 Batch 4:  Cost: 0.09327995032072067 - Accuracy: 0.7083998918533325\n",
      "Epoch  7, CIFAR-10 Batch 5:  Cost: 0.06937596201896667 - Accuracy: 0.6903998851776123\n",
      "Epoch  8, CIFAR-10 Batch 1:  Cost: 0.08627786487340927 - Accuracy: 0.7009998559951782\n",
      "Epoch  8, CIFAR-10 Batch 2:  Cost: 0.06140195578336716 - Accuracy: 0.6707998514175415\n",
      "Epoch  8, CIFAR-10 Batch 3:  Cost: 0.06749682128429413 - Accuracy: 0.6911998391151428\n",
      "Epoch  8, CIFAR-10 Batch 4:  Cost: 0.09665252268314362 - Accuracy: 0.7081997990608215\n",
      "Epoch  8, CIFAR-10 Batch 5:  Cost: 0.051670610904693604 - Accuracy: 0.7071998715400696\n",
      "Epoch  9, CIFAR-10 Batch 1:  Cost: 0.04515315592288971 - Accuracy: 0.7067998647689819\n",
      "Epoch  9, CIFAR-10 Batch 2:  Cost: 0.0357857421040535 - Accuracy: 0.6837998628616333\n",
      "Epoch  9, CIFAR-10 Batch 3:  Cost: 0.06725604087114334 - Accuracy: 0.6947999000549316\n",
      "Epoch  9, CIFAR-10 Batch 4:  Cost: 0.03850092738866806 - Accuracy: 0.7153998613357544\n",
      "Epoch  9, CIFAR-10 Batch 5:  Cost: 0.05771579220890999 - Accuracy: 0.6911998987197876\n",
      "Epoch 10, CIFAR-10 Batch 1:  Cost: 0.07123924046754837 - Accuracy: 0.6823998093605042\n",
      "Epoch 10, CIFAR-10 Batch 2:  Cost: 0.048078496009111404 - Accuracy: 0.6923998594284058\n",
      "Epoch 10, CIFAR-10 Batch 3:  Cost: 0.04755745455622673 - Accuracy: 0.6791998744010925\n",
      "Epoch 10, CIFAR-10 Batch 4:  Cost: 0.03731245920062065 - Accuracy: 0.6997998952865601\n",
      "Epoch 10, CIFAR-10 Batch 5:  Cost: 0.042714543640613556 - Accuracy: 0.6907998919487\n",
      "Epoch 11, CIFAR-10 Batch 1:  Cost: 0.037702776491642 - Accuracy: 0.6821998953819275\n",
      "Epoch 11, CIFAR-10 Batch 2:  Cost: 0.06197550520300865 - Accuracy: 0.6901999115943909\n",
      "Epoch 11, CIFAR-10 Batch 3:  Cost: 0.02460775524377823 - Accuracy: 0.6947998404502869\n",
      "Epoch 11, CIFAR-10 Batch 4:  Cost: 0.030634334310889244 - Accuracy: 0.695399820804596\n",
      "Epoch 11, CIFAR-10 Batch 5:  Cost: 0.02513471245765686 - Accuracy: 0.7105997800827026\n",
      "Epoch 12, CIFAR-10 Batch 1:  Cost: 0.02201748639345169 - Accuracy: 0.7087998390197754\n",
      "Epoch 12, CIFAR-10 Batch 2:  Cost: 0.026399290189146996 - Accuracy: 0.6941999197006226\n",
      "Epoch 12, CIFAR-10 Batch 3:  Cost: 0.02766299620270729 - Accuracy: 0.6849998831748962\n",
      "Epoch 12, CIFAR-10 Batch 4:  Cost: 0.02776462212204933 - Accuracy: 0.7165998220443726\n",
      "Epoch 12, CIFAR-10 Batch 5:  Cost: 0.010214149951934814 - Accuracy: 0.7095998525619507\n",
      "Epoch 13, CIFAR-10 Batch 1:  Cost: 0.03155165910720825 - Accuracy: 0.7087997794151306\n",
      "Epoch 13, CIFAR-10 Batch 2:  Cost: 0.013007454574108124 - Accuracy: 0.7063998579978943\n",
      "Epoch 13, CIFAR-10 Batch 3:  Cost: 0.016020745038986206 - Accuracy: 0.6901999115943909\n",
      "Epoch 13, CIFAR-10 Batch 4:  Cost: 0.028100239112973213 - Accuracy: 0.7075998783111572\n",
      "Epoch 13, CIFAR-10 Batch 5:  Cost: 0.00961976032704115 - Accuracy: 0.6935998201370239\n",
      "Epoch 14, CIFAR-10 Batch 1:  Cost: 0.026795683428645134 - Accuracy: 0.7017998099327087\n",
      "Epoch 14, CIFAR-10 Batch 2:  Cost: 0.01366535946726799 - Accuracy: 0.6681998372077942\n",
      "Epoch 14, CIFAR-10 Batch 3:  Cost: 0.013219254091382027 - Accuracy: 0.7021999359130859\n",
      "Epoch 14, CIFAR-10 Batch 4:  Cost: 0.014694694429636002 - Accuracy: 0.705599844455719\n",
      "Epoch 14, CIFAR-10 Batch 5:  Cost: 0.008152262307703495 - Accuracy: 0.7063999176025391\n",
      "Epoch 15, CIFAR-10 Batch 1:  Cost: 0.014683648943901062 - Accuracy: 0.6871999502182007\n",
      "Epoch 15, CIFAR-10 Batch 2:  Cost: 0.023338569328188896 - Accuracy: 0.6619998216629028\n",
      "Epoch 15, CIFAR-10 Batch 3:  Cost: 0.013867903500795364 - Accuracy: 0.7065998315811157\n",
      "Epoch 15, CIFAR-10 Batch 4:  Cost: 0.014616088010370731 - Accuracy: 0.6977998614311218\n",
      "Epoch 15, CIFAR-10 Batch 5:  Cost: 0.004996927920728922 - Accuracy: 0.6945998668670654\n",
      "Epoch 16, CIFAR-10 Batch 1:  Cost: 0.013722505420446396 - Accuracy: 0.6831998825073242\n",
      "Epoch 16, CIFAR-10 Batch 2:  Cost: 0.012817628681659698 - Accuracy: 0.6765998601913452\n",
      "Epoch 16, CIFAR-10 Batch 3:  Cost: 0.003195833181962371 - Accuracy: 0.7109998464584351\n",
      "Epoch 16, CIFAR-10 Batch 4:  Cost: 0.02050134725868702 - Accuracy: 0.6869998574256897\n",
      "Epoch 16, CIFAR-10 Batch 5:  Cost: 0.010662428103387356 - Accuracy: 0.6821999549865723\n",
      "Epoch 17, CIFAR-10 Batch 1:  Cost: 0.012851055711507797 - Accuracy: 0.6903998255729675\n",
      "Epoch 17, CIFAR-10 Batch 2:  Cost: 0.009577272459864616 - Accuracy: 0.7003998756408691\n",
      "Epoch 17, CIFAR-10 Batch 3:  Cost: 0.003851348999887705 - Accuracy: 0.7137998938560486\n",
      "Epoch 17, CIFAR-10 Batch 4:  Cost: 0.014774187467992306 - Accuracy: 0.6979998350143433\n",
      "Epoch 17, CIFAR-10 Batch 5:  Cost: 0.007439099717885256 - Accuracy: 0.7073999047279358\n",
      "Epoch 18, CIFAR-10 Batch 1:  Cost: 0.012757347896695137 - Accuracy: 0.7069998979568481\n",
      "Epoch 18, CIFAR-10 Batch 2:  Cost: 0.005476613529026508 - Accuracy: 0.6945998668670654\n",
      "Epoch 18, CIFAR-10 Batch 3:  Cost: 0.004156933631747961 - Accuracy: 0.7107998728752136\n",
      "Epoch 18, CIFAR-10 Batch 4:  Cost: 0.00838811881840229 - Accuracy: 0.6929998993873596\n",
      "Epoch 18, CIFAR-10 Batch 5:  Cost: 0.0025223211850970984 - Accuracy: 0.7125998735427856\n",
      "Epoch 19, CIFAR-10 Batch 1:  Cost: 0.0032982886768877506 - Accuracy: 0.7187998294830322\n",
      "Epoch 19, CIFAR-10 Batch 2:  Cost: 0.01093299500644207 - Accuracy: 0.7065998315811157\n",
      "Epoch 19, CIFAR-10 Batch 3:  Cost: 0.004376349039375782 - Accuracy: 0.7063998579978943\n",
      "Epoch 19, CIFAR-10 Batch 4:  Cost: 0.0014028004370629787 - Accuracy: 0.6971998810768127\n",
      "Epoch 19, CIFAR-10 Batch 5:  Cost: 0.0048886691220104694 - Accuracy: 0.7067998647689819\n",
      "Epoch 20, CIFAR-10 Batch 1:  Cost: 0.006051109172403812 - Accuracy: 0.7193998694419861\n",
      "Epoch 20, CIFAR-10 Batch 2:  Cost: 0.004091084003448486 - Accuracy: 0.7137998938560486\n",
      "Epoch 20, CIFAR-10 Batch 3:  Cost: 0.0026790201663970947 - Accuracy: 0.6985998749732971\n",
      "Epoch 20, CIFAR-10 Batch 4:  Cost: 0.006152882240712643 - Accuracy: 0.6823998689651489\n",
      "Epoch 20, CIFAR-10 Batch 5:  Cost: 0.004192240536212921 - Accuracy: 0.7141998410224915\n",
      "Epoch 21, CIFAR-10 Batch 1:  Cost: 0.0033407476730644703 - Accuracy: 0.7219998836517334\n",
      "Epoch 21, CIFAR-10 Batch 2:  Cost: 0.002196493325755 - Accuracy: 0.7199997901916504\n",
      "Epoch 21, CIFAR-10 Batch 3:  Cost: 0.0012414333177730441 - Accuracy: 0.7039998769760132\n",
      "Epoch 21, CIFAR-10 Batch 4:  Cost: 0.00497354194521904 - Accuracy: 0.7145998477935791\n",
      "Epoch 21, CIFAR-10 Batch 5:  Cost: 0.0032692053355276585 - Accuracy: 0.7113998532295227\n",
      "Epoch 22, CIFAR-10 Batch 1:  Cost: 0.00250781187787652 - Accuracy: 0.7161998748779297\n",
      "Epoch 22, CIFAR-10 Batch 2:  Cost: 0.0007001091726124287 - Accuracy: 0.7349998950958252\n",
      "Epoch 22, CIFAR-10 Batch 3:  Cost: 0.0011460103560239077 - Accuracy: 0.707399845123291\n",
      "Epoch 22, CIFAR-10 Batch 4:  Cost: 0.002104566665366292 - Accuracy: 0.7213999032974243\n",
      "Epoch 22, CIFAR-10 Batch 5:  Cost: 0.0014628679491579533 - Accuracy: 0.6981999278068542\n",
      "Epoch 23, CIFAR-10 Batch 1:  Cost: 0.0025744540616869926 - Accuracy: 0.7095998525619507\n",
      "Epoch 23, CIFAR-10 Batch 2:  Cost: 0.0006364084547385573 - Accuracy: 0.7307997941970825\n",
      "Epoch 23, CIFAR-10 Batch 3:  Cost: 0.0013118339702486992 - Accuracy: 0.7197998762130737\n",
      "Epoch 23, CIFAR-10 Batch 4:  Cost: 0.00032747260411269963 - Accuracy: 0.6917999386787415\n",
      "Epoch 23, CIFAR-10 Batch 5:  Cost: 0.00151910784188658 - Accuracy: 0.7229998111724854\n",
      "Epoch 24, CIFAR-10 Batch 1:  Cost: 0.0008419386576861143 - Accuracy: 0.7227998375892639\n",
      "Epoch 24, CIFAR-10 Batch 2:  Cost: 0.0005746216629631817 - Accuracy: 0.7239997982978821\n",
      "Epoch 24, CIFAR-10 Batch 3:  Cost: 0.0009197636973112822 - Accuracy: 0.7285998463630676\n",
      "Epoch 24, CIFAR-10 Batch 4:  Cost: 0.0014821561053395271 - Accuracy: 0.705599844455719\n",
      "Epoch 24, CIFAR-10 Batch 5:  Cost: 0.00031409476650878787 - Accuracy: 0.7191997766494751\n",
      "Epoch 25, CIFAR-10 Batch 1:  Cost: 0.002152498345822096 - Accuracy: 0.7219998240470886\n",
      "Epoch 25, CIFAR-10 Batch 2:  Cost: 0.0007555237389169633 - Accuracy: 0.714999794960022\n",
      "Epoch 25, CIFAR-10 Batch 3:  Cost: 0.0006119349272921681 - Accuracy: 0.7263997793197632\n",
      "Epoch 25, CIFAR-10 Batch 4:  Cost: 0.004589983262121677 - Accuracy: 0.6857998371124268\n",
      "Epoch 25, CIFAR-10 Batch 5:  Cost: 0.0006591490237042308 - Accuracy: 0.7097998261451721\n",
      "Epoch 26, CIFAR-10 Batch 1:  Cost: 0.0003473011893220246 - Accuracy: 0.7253998517990112\n",
      "Epoch 26, CIFAR-10 Batch 2:  Cost: 0.0008416418568231165 - Accuracy: 0.7317997813224792\n",
      "Epoch 26, CIFAR-10 Batch 3:  Cost: 0.0011135967215523124 - Accuracy: 0.7201999425888062\n",
      "Epoch 26, CIFAR-10 Batch 4:  Cost: 0.000630972208455205 - Accuracy: 0.7207998037338257\n",
      "Epoch 26, CIFAR-10 Batch 5:  Cost: 0.0011612025555223227 - Accuracy: 0.7237998247146606\n",
      "Epoch 27, CIFAR-10 Batch 1:  Cost: 0.0009373462526127696 - Accuracy: 0.7253998517990112\n",
      "Epoch 27, CIFAR-10 Batch 2:  Cost: 0.0008834482869133353 - Accuracy: 0.7221997976303101\n",
      "Epoch 27, CIFAR-10 Batch 3:  Cost: 0.0006428275955840945 - Accuracy: 0.7313998937606812\n",
      "Epoch 27, CIFAR-10 Batch 4:  Cost: 0.0005645443452522159 - Accuracy: 0.7129998803138733\n",
      "Epoch 27, CIFAR-10 Batch 5:  Cost: 0.0010162156540900469 - Accuracy: 0.7213998436927795\n",
      "Epoch 28, CIFAR-10 Batch 1:  Cost: 0.0016181934624910355 - Accuracy: 0.720599889755249\n",
      "Epoch 28, CIFAR-10 Batch 2:  Cost: 0.0003203576779924333 - Accuracy: 0.7239998579025269\n",
      "Epoch 28, CIFAR-10 Batch 3:  Cost: 0.0008660587482154369 - Accuracy: 0.7241998910903931\n",
      "Epoch 28, CIFAR-10 Batch 4:  Cost: 0.00027367871371097863 - Accuracy: 0.7161998748779297\n",
      "Epoch 28, CIFAR-10 Batch 5:  Cost: 0.0005216717254370451 - Accuracy: 0.7233998775482178\n",
      "Epoch 29, CIFAR-10 Batch 1:  Cost: 0.0006441482109948993 - Accuracy: 0.7169997692108154\n",
      "Epoch 29, CIFAR-10 Batch 2:  Cost: 0.0010313407983630896 - Accuracy: 0.7265998721122742\n",
      "Epoch 29, CIFAR-10 Batch 3:  Cost: 0.0002919962862506509 - Accuracy: 0.7231998443603516\n",
      "Epoch 29, CIFAR-10 Batch 4:  Cost: 0.00042819647933356464 - Accuracy: 0.7193998694419861\n",
      "Epoch 29, CIFAR-10 Batch 5:  Cost: 0.001310420804657042 - Accuracy: 0.7207998633384705\n",
      "Epoch 30, CIFAR-10 Batch 1:  Cost: 0.0026529307942837477 - Accuracy: 0.7113998532295227\n",
      "Epoch 30, CIFAR-10 Batch 2:  Cost: 0.0007976326160132885 - Accuracy: 0.7125998735427856\n",
      "Epoch 30, CIFAR-10 Batch 3:  Cost: 0.00029400698258541524 - Accuracy: 0.7181999087333679\n",
      "Epoch 30, CIFAR-10 Batch 4:  Cost: 0.002898706588894129 - Accuracy: 0.7113997936248779\n",
      "Epoch 30, CIFAR-10 Batch 5:  Cost: 0.0009094485430978239 - Accuracy: 0.7151999473571777\n",
      "Epoch 31, CIFAR-10 Batch 1:  Cost: 0.0011522597633302212 - Accuracy: 0.7187998294830322\n",
      "Epoch 31, CIFAR-10 Batch 2:  Cost: 0.0006346156587824225 - Accuracy: 0.7195997834205627\n",
      "Epoch 31, CIFAR-10 Batch 3:  Cost: 0.0010446574306115508 - Accuracy: 0.7229998111724854\n",
      "Epoch 31, CIFAR-10 Batch 4:  Cost: 0.0020645740441977978 - Accuracy: 0.7113997936248779\n",
      "Epoch 31, CIFAR-10 Batch 5:  Cost: 0.0011251589749008417 - Accuracy: 0.7267998456954956\n",
      "Epoch 32, CIFAR-10 Batch 1:  Cost: 0.0009317286312580109 - Accuracy: 0.7247998714447021\n",
      "Epoch 32, CIFAR-10 Batch 2:  Cost: 0.0005323269870132208 - Accuracy: 0.7289998531341553\n",
      "Epoch 32, CIFAR-10 Batch 3:  Cost: 0.00010970406583510339 - Accuracy: 0.7205998301506042\n",
      "Epoch 32, CIFAR-10 Batch 4:  Cost: 0.0014900133246555924 - Accuracy: 0.7133998870849609\n",
      "Epoch 32, CIFAR-10 Batch 5:  Cost: 0.0001946974516613409 - Accuracy: 0.7157999277114868\n",
      "Epoch 33, CIFAR-10 Batch 1:  Cost: 0.000547040777746588 - Accuracy: 0.7249999046325684\n",
      "Epoch 33, CIFAR-10 Batch 2:  Cost: 0.0007056994363665581 - Accuracy: 0.7249999046325684\n",
      "Epoch 33, CIFAR-10 Batch 3:  Cost: 9.39785095397383e-05 - Accuracy: 0.7145998477935791\n",
      "Epoch 33, CIFAR-10 Batch 4:  Cost: 0.0006540374597534537 - Accuracy: 0.7123998403549194\n",
      "Epoch 33, CIFAR-10 Batch 5:  Cost: 0.0020391996949911118 - Accuracy: 0.7135998606681824\n",
      "Epoch 34, CIFAR-10 Batch 1:  Cost: 0.0015304798725992441 - Accuracy: 0.7201998233795166\n",
      "Epoch 34, CIFAR-10 Batch 2:  Cost: 0.0005881571560166776 - Accuracy: 0.7263998985290527\n",
      "Epoch 34, CIFAR-10 Batch 3:  Cost: 0.004408107604831457 - Accuracy: 0.7115998864173889\n",
      "Epoch 34, CIFAR-10 Batch 4:  Cost: 0.001831216155551374 - Accuracy: 0.7079998254776001\n",
      "Epoch 34, CIFAR-10 Batch 5:  Cost: 0.00020173826487734914 - Accuracy: 0.7241998314857483\n",
      "Epoch 35, CIFAR-10 Batch 1:  Cost: 0.001042367541231215 - Accuracy: 0.71319979429245\n",
      "Epoch 35, CIFAR-10 Batch 2:  Cost: 0.0009734136401675642 - Accuracy: 0.7125998735427856\n",
      "Epoch 35, CIFAR-10 Batch 3:  Cost: 5.655351560562849e-05 - Accuracy: 0.7067998647689819\n",
      "Epoch 35, CIFAR-10 Batch 4:  Cost: 0.0013105138204991817 - Accuracy: 0.7227998375892639\n",
      "Epoch 35, CIFAR-10 Batch 5:  Cost: 0.000641228340100497 - Accuracy: 0.7313998937606812\n",
      "Epoch 36, CIFAR-10 Batch 1:  Cost: 0.002338489517569542 - Accuracy: 0.7131998538970947\n",
      "Epoch 36, CIFAR-10 Batch 2:  Cost: 0.0008886312716640532 - Accuracy: 0.7101998329162598\n",
      "Epoch 36, CIFAR-10 Batch 3:  Cost: 0.0007838213350623846 - Accuracy: 0.7133998870849609\n",
      "Epoch 36, CIFAR-10 Batch 4:  Cost: 0.0008907424053177238 - Accuracy: 0.707399845123291\n",
      "Epoch 36, CIFAR-10 Batch 5:  Cost: 0.0002356898330617696 - Accuracy: 0.7315998673439026\n",
      "Epoch 37, CIFAR-10 Batch 1:  Cost: 9.675086766947061e-05 - Accuracy: 0.7177998423576355\n",
      "Epoch 37, CIFAR-10 Batch 2:  Cost: 0.00011257274309173226 - Accuracy: 0.7173998951911926\n",
      "Epoch 37, CIFAR-10 Batch 3:  Cost: 0.001086551696062088 - Accuracy: 0.7221999168395996\n",
      "Epoch 37, CIFAR-10 Batch 4:  Cost: 0.0006486938218586147 - Accuracy: 0.7175998091697693\n",
      "Epoch 37, CIFAR-10 Batch 5:  Cost: 0.0003711628378368914 - Accuracy: 0.7241998314857483\n",
      "Epoch 38, CIFAR-10 Batch 1:  Cost: 0.00013160107482690364 - Accuracy: 0.741399884223938\n",
      "Epoch 38, CIFAR-10 Batch 2:  Cost: 0.0009745448478497565 - Accuracy: 0.7285998463630676\n",
      "Epoch 38, CIFAR-10 Batch 3:  Cost: 3.275069684605114e-05 - Accuracy: 0.7299998998641968\n",
      "Epoch 38, CIFAR-10 Batch 4:  Cost: 0.0011537006357684731 - Accuracy: 0.7149999141693115\n",
      "Epoch 38, CIFAR-10 Batch 5:  Cost: 0.0012598191387951374 - Accuracy: 0.7037999033927917\n",
      "Epoch 39, CIFAR-10 Batch 1:  Cost: 0.00011263026681263 - Accuracy: 0.7249999046325684\n",
      "Epoch 39, CIFAR-10 Batch 2:  Cost: 0.0008458668598905206 - Accuracy: 0.7257997989654541\n",
      "Epoch 39, CIFAR-10 Batch 3:  Cost: 0.0002286714588990435 - Accuracy: 0.7267998456954956\n",
      "Epoch 39, CIFAR-10 Batch 4:  Cost: 0.0038615241646766663 - Accuracy: 0.708599865436554\n",
      "Epoch 39, CIFAR-10 Batch 5:  Cost: 0.0002287986862938851 - Accuracy: 0.7133998870849609\n",
      "Epoch 40, CIFAR-10 Batch 1:  Cost: 0.0003483034379314631 - Accuracy: 0.7177998423576355\n",
      "Epoch 40, CIFAR-10 Batch 2:  Cost: 0.00027622125344350934 - Accuracy: 0.721799910068512\n",
      "Epoch 40, CIFAR-10 Batch 3:  Cost: 0.0004681591526605189 - Accuracy: 0.7271998524665833\n",
      "Epoch 40, CIFAR-10 Batch 4:  Cost: 0.0007296070689335465 - Accuracy: 0.7075998783111572\n",
      "Epoch 40, CIFAR-10 Batch 5:  Cost: 0.001583207631483674 - Accuracy: 0.7097999453544617\n",
      "Epoch 41, CIFAR-10 Batch 1:  Cost: 9.288783621741459e-05 - Accuracy: 0.7273998856544495\n",
      "Epoch 41, CIFAR-10 Batch 2:  Cost: 0.0014020676026120782 - Accuracy: 0.7197998762130737\n",
      "Epoch 41, CIFAR-10 Batch 3:  Cost: 0.0011018742807209492 - Accuracy: 0.7179998755455017\n",
      "Epoch 41, CIFAR-10 Batch 4:  Cost: 0.001375662861391902 - Accuracy: 0.7061998844146729\n",
      "Epoch 41, CIFAR-10 Batch 5:  Cost: 0.00024528481299057603 - Accuracy: 0.7241998910903931\n",
      "Epoch 42, CIFAR-10 Batch 1:  Cost: 0.0002603142929729074 - Accuracy: 0.7261998653411865\n",
      "Epoch 42, CIFAR-10 Batch 2:  Cost: 0.0006376836681738496 - Accuracy: 0.7213998436927795\n",
      "Epoch 42, CIFAR-10 Batch 3:  Cost: 0.00025978824123740196 - Accuracy: 0.72819983959198\n",
      "Epoch 42, CIFAR-10 Batch 4:  Cost: 0.002058044308796525 - Accuracy: 0.7093998789787292\n",
      "Epoch 42, CIFAR-10 Batch 5:  Cost: 0.0005930950283072889 - Accuracy: 0.7205998301506042\n",
      "Epoch 43, CIFAR-10 Batch 1:  Cost: 0.00030186102958396077 - Accuracy: 0.7279998660087585\n",
      "Epoch 43, CIFAR-10 Batch 2:  Cost: 2.2790436560171656e-05 - Accuracy: 0.7351998090744019\n",
      "Epoch 43, CIFAR-10 Batch 3:  Cost: 7.330709922825918e-05 - Accuracy: 0.7201998829841614\n",
      "Epoch 43, CIFAR-10 Batch 4:  Cost: 0.0005593507084995508 - Accuracy: 0.7093998789787292\n",
      "Epoch 43, CIFAR-10 Batch 5:  Cost: 0.0011251000687479973 - Accuracy: 0.7189998626708984\n",
      "Epoch 44, CIFAR-10 Batch 1:  Cost: 0.00013592635514214635 - Accuracy: 0.7261998057365417\n",
      "Epoch 44, CIFAR-10 Batch 2:  Cost: 0.00026748559321276844 - Accuracy: 0.7379998564720154\n",
      "Epoch 44, CIFAR-10 Batch 3:  Cost: 3.677750282804482e-05 - Accuracy: 0.7065998315811157\n",
      "Epoch 44, CIFAR-10 Batch 4:  Cost: 0.0001223418366862461 - Accuracy: 0.7229998111724854\n",
      "Epoch 44, CIFAR-10 Batch 5:  Cost: 0.0004449503030627966 - Accuracy: 0.7323998212814331\n",
      "Epoch 45, CIFAR-10 Batch 1:  Cost: 0.0003473542456049472 - Accuracy: 0.7349998950958252\n",
      "Epoch 45, CIFAR-10 Batch 2:  Cost: 3.141821071039885e-05 - Accuracy: 0.7379997968673706\n",
      "Epoch 45, CIFAR-10 Batch 3:  Cost: 2.8806711270590313e-05 - Accuracy: 0.7283998727798462\n",
      "Epoch 45, CIFAR-10 Batch 4:  Cost: 0.0007631558692082763 - Accuracy: 0.716799795627594\n",
      "Epoch 45, CIFAR-10 Batch 5:  Cost: 0.00041492300806567073 - Accuracy: 0.7271997928619385\n",
      "Epoch 46, CIFAR-10 Batch 1:  Cost: 0.0003134200524073094 - Accuracy: 0.737599790096283\n",
      "Epoch 46, CIFAR-10 Batch 2:  Cost: 0.0006477950373664498 - Accuracy: 0.7259998321533203\n",
      "Epoch 46, CIFAR-10 Batch 3:  Cost: 8.004281880857889e-06 - Accuracy: 0.7255998253822327\n",
      "Epoch 46, CIFAR-10 Batch 4:  Cost: 0.00030677756876684725 - Accuracy: 0.7079998850822449\n",
      "Epoch 46, CIFAR-10 Batch 5:  Cost: 0.0018564239144325256 - Accuracy: 0.7161998152732849\n",
      "Epoch 47, CIFAR-10 Batch 1:  Cost: 0.0005231031682342291 - Accuracy: 0.7337998747825623\n",
      "Epoch 47, CIFAR-10 Batch 2:  Cost: 0.0006459829164668918 - Accuracy: 0.7231998443603516\n",
      "Epoch 47, CIFAR-10 Batch 3:  Cost: 0.0001863418729044497 - Accuracy: 0.712199866771698\n",
      "Epoch 47, CIFAR-10 Batch 4:  Cost: 0.0008254816057160497 - Accuracy: 0.7187998294830322\n",
      "Epoch 47, CIFAR-10 Batch 5:  Cost: 0.0003288686275482178 - Accuracy: 0.729999840259552\n",
      "Epoch 48, CIFAR-10 Batch 1:  Cost: 0.00034497911110520363 - Accuracy: 0.7235997915267944\n",
      "Epoch 48, CIFAR-10 Batch 2:  Cost: 0.0006171356071718037 - Accuracy: 0.7285997867584229\n",
      "Epoch 48, CIFAR-10 Batch 3:  Cost: 0.00038537319051101804 - Accuracy: 0.7265998125076294\n",
      "Epoch 48, CIFAR-10 Batch 4:  Cost: 0.00035379378823563457 - Accuracy: 0.7187998294830322\n",
      "Epoch 48, CIFAR-10 Batch 5:  Cost: 0.0001377967419102788 - Accuracy: 0.7471998333930969\n",
      "Epoch 49, CIFAR-10 Batch 1:  Cost: 3.663697498268448e-05 - Accuracy: 0.7351998090744019\n",
      "Epoch 49, CIFAR-10 Batch 2:  Cost: 0.00025476497830823064 - Accuracy: 0.7323998212814331\n",
      "Epoch 49, CIFAR-10 Batch 3:  Cost: 0.0002300129272043705 - Accuracy: 0.7213998436927795\n",
      "Epoch 49, CIFAR-10 Batch 4:  Cost: 0.0003893455141223967 - Accuracy: 0.7249999046325684\n",
      "Epoch 49, CIFAR-10 Batch 5:  Cost: 0.00013489027332980186 - Accuracy: 0.7327998280525208\n",
      "Epoch 50, CIFAR-10 Batch 1:  Cost: 0.0001925625983858481 - Accuracy: 0.7255998253822327\n",
      "Epoch 50, CIFAR-10 Batch 2:  Cost: 0.00020232278620824218 - Accuracy: 0.7399998903274536\n",
      "Epoch 50, CIFAR-10 Batch 3:  Cost: 0.000133973837364465 - Accuracy: 0.7225999236106873\n",
      "Epoch 50, CIFAR-10 Batch 4:  Cost: 5.0423850552761e-06 - Accuracy: 0.726599931716919\n",
      "Epoch 50, CIFAR-10 Batch 5:  Cost: 4.099428406334482e-05 - Accuracy: 0.7337998151779175\n"
     ]
    }
   ],
   "source": [
    "\"\"\"\n",
    "DON'T MODIFY ANYTHING IN THIS CELL\n",
    "\"\"\"\n",
    "save_model_path = './image_classification'\n",
    "\n",
    "print('Training...')\n",
    "with tf.Session() as sess:\n",
    "    # Initializing the variables\n",
    "    sess.run(tf.global_variables_initializer())\n",
    "    \n",
    "    # Training cycle\n",
    "    for epoch in range(epochs):\n",
    "        # Loop over all batches\n",
    "        n_batches = 5\n",
    "        for batch_i in range(1, n_batches + 1):\n",
    "            for batch_features, batch_labels in helper.load_preprocess_training_batch(batch_i, batch_size):\n",
    "                train_neural_network(sess, optimizer, keep_probability, batch_features, batch_labels)\n",
    "            print('Epoch {:>2}, CIFAR-10 Batch {}:  '.format(epoch + 1, batch_i), end='')\n",
    "            print_stats(sess, batch_features, batch_labels, cost, accuracy)\n",
    "            \n",
    "    # Save Model\n",
    "    saver = tf.train.Saver()\n",
    "    save_path = saver.save(sess, save_model_path)"
   ]
  },
  {
   "cell_type": "markdown",
   "metadata": {
    "deletable": true,
    "editable": true
   },
   "source": [
    "# Checkpoint\n",
    "The model has been saved to disk.\n",
    "## Test Model\n",
    "Test your model against the test dataset.  This will be your final accuracy. You should have an accuracy greater than 50%. If you don't, keep tweaking the model architecture and parameters."
   ]
  },
  {
   "cell_type": "code",
   "execution_count": 18,
   "metadata": {
    "collapsed": false,
    "deletable": true,
    "editable": true
   },
   "outputs": [
    {
     "name": "stdout",
     "output_type": "stream",
     "text": [
      "Testing Accuracy: 0.7255859375\n",
      "\n"
     ]
    },
    {
     "data": {
      "image/png": "[encoded data removed]",
      "text/plain": [
       "<matplotlib.figure.Figure at 0x7f1a61f17c50>"
      ]
     },
     "metadata": {
      "image/png": {
       "height": 319,
       "width": 355
      }
     },
     "output_type": "display_data"
    }
   ],
   "source": [
    "\"\"\"\n",
    "DON'T MODIFY ANYTHING IN THIS CELL\n",
    "\"\"\"\n",
    "%matplotlib inline\n",
    "%config InlineBackend.figure_format = 'retina'\n",
    "\n",
    "import tensorflow as tf\n",
    "import pickle\n",
    "import helper\n",
    "import random\n",
    "\n",
    "# Set batch size if not already set\n",
    "try:\n",
    "    if batch_size:\n",
    "        pass\n",
    "except NameError:\n",
    "    batch_size = 64\n",
    "\n",
    "save_model_path = './image_classification'\n",
    "n_samples = 4\n",
    "top_n_predictions = 3\n",
    "\n",
    "def test_model():\n",
    "    \"\"\"\n",
    "    Test the saved model against the test dataset\n",
    "    \"\"\"\n",
    "\n",
    "    test_features, test_labels = pickle.load(open('preprocess_training.p', mode='rb'))\n",
    "    loaded_graph = tf.Graph()\n",
    "\n",
    "    with tf.Session(graph=loaded_graph) as sess:\n",
    "        # Load model\n",
    "        loader = tf.train.import_meta_graph(save_model_path + '.meta')\n",
    "        loader.restore(sess, save_model_path)\n",
    "\n",
    "        # Get Tensors from loaded model\n",
    "        loaded_x = loaded_graph.get_tensor_by_name('x:0')\n",
    "        loaded_y = loaded_graph.get_tensor_by_name('y:0')\n",
    "        loaded_keep_prob = loaded_graph.get_tensor_by_name('keep_prob:0')\n",
    "        loaded_logits = loaded_graph.get_tensor_by_name('logits:0')\n",
    "        loaded_acc = loaded_graph.get_tensor_by_name('accuracy:0')\n",
    "        \n",
    "        # Get accuracy in batches for memory limitations\n",
    "        test_batch_acc_total = 0\n",
    "        test_batch_count = 0\n",
    "        \n",
    "        for train_feature_batch, train_label_batch in helper.batch_features_labels(test_features, test_labels, batch_size):\n",
    "            test_batch_acc_total += sess.run(\n",
    "                loaded_acc,\n",
    "                feed_dict={loaded_x: train_feature_batch, loaded_y: train_label_batch, loaded_keep_prob: 1.0})\n",
    "            test_batch_count += 1\n",
    "\n",
    "        print('Testing Accuracy: {}\\n'.format(test_batch_acc_total/test_batch_count))\n",
    "\n",
    "        # Print Random Samples\n",
    "        random_test_features, random_test_labels = tuple(zip(*random.sample(list(zip(test_features, test_labels)), n_samples)))\n",
    "        random_test_predictions = sess.run(\n",
    "            tf.nn.top_k(tf.nn.softmax(loaded_logits), top_n_predictions),\n",
    "            feed_dict={loaded_x: random_test_features, loaded_y: random_test_labels, loaded_keep_prob: 1.0})\n",
    "        helper.display_image_predictions(random_test_features, random_test_labels, random_test_predictions)\n",
    "\n",
    "\n",
    "test_model()"
   ]
  },
  {
   "cell_type": "markdown",
   "metadata": {
    "deletable": true,
    "editable": true
   },
   "source": [
    "## Why 50-70% Accuracy?\n",
    "You might be wondering why you can't get an accuracy any higher. First things first, 50% isn't bad for a simple CNN.  Pure guessing would get you 10% accuracy. However, you might notice people are getting scores [well above 70%](http://rodrigob.github.io/are_we_there_yet/build/classification_datasets_results.html#43494641522d3130).  That's because we haven't taught you all there is to know about neural networks. We still need to cover a few more techniques.\n",
    "## Submitting This Project\n",
    "When submitting this project, make sure to run all the cells before saving the notebook.  Save the notebook file as \"dlnd_image_classification.ipynb\" and save it as a HTML file under \"File\" -> \"Download as\".  Include the \"helper.py\" and \"problem_unittests.py\" files in your submission."
   ]
  }
 ],
 "metadata": {
  "kernelspec": {
   "display_name": "Python 3",
   "language": "python",
   "name": "python3"
  },
  "language_info": {
   "codemirror_mode": {
    "name": "ipython",
    "version": 3
   },
   "file_extension": ".py",
   "mimetype": "text/x-python",
   "name": "python",
   "nbconvert_exporter": "python",
   "pygments_lexer": "ipython3",
   "version": "3.5.2"
  },
  "widgets": {
   "state": {},
   "version": "1.1.2"
  }
 },
 "nbformat": 4,
 "nbformat_minor": 0
}
